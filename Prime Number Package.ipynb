{
 "cells": [
  {
   "cell_type": "markdown",
   "id": "bb5d9ce9",
   "metadata": {},
   "source": [
    "### Installing the package"
   ]
  },
  {
   "cell_type": "code",
   "execution_count": 1,
   "id": "1b690231",
   "metadata": {},
   "outputs": [
    {
     "name": "stdout",
     "output_type": "stream",
     "text": [
      "Requirement already satisfied: abhiprime in c:\\users\\electronics\\anaconda3\\lib\\site-packages (5.0.0)\n"
     ]
    }
   ],
   "source": [
    "!pip install abhiprime"
   ]
  },
  {
   "cell_type": "markdown",
   "id": "2b2186c9",
   "metadata": {},
   "source": [
    "### Upgrading the package if it is already installed"
   ]
  },
  {
   "cell_type": "code",
   "execution_count": 3,
   "id": "0feacc67",
   "metadata": {},
   "outputs": [
    {
     "name": "stdout",
     "output_type": "stream",
     "text": [
      "Requirement already satisfied: abhiprime in c:\\users\\electronics\\anaconda3\\lib\\site-packages (5.0.0)\n",
      "Collecting abhiprime\n",
      "  Downloading abhiprime-6.0.0-py3-none-any.whl (3.7 kB)\n",
      "Installing collected packages: abhiprime\n",
      "  Attempting uninstall: abhiprime\n",
      "    Found existing installation: abhiprime 5.0.0\n",
      "    Uninstalling abhiprime-5.0.0:\n",
      "      Successfully uninstalled abhiprime-5.0.0\n",
      "Successfully installed abhiprime-6.0.0\n"
     ]
    }
   ],
   "source": [
    "!pip install --upgrade abhiprime"
   ]
  },
  {
   "cell_type": "markdown",
   "id": "b5e17cbd",
   "metadata": {},
   "source": [
    "### Importing the package and using it"
   ]
  },
  {
   "cell_type": "code",
   "execution_count": 4,
   "id": "62f2dd22",
   "metadata": {},
   "outputs": [
    {
     "data": {
      "text/plain": [
       "1"
      ]
     },
     "execution_count": 4,
     "metadata": {},
     "output_type": "execute_result"
    }
   ],
   "source": [
    "from abhiprime import test_prime\n",
    "\n",
    "test_prime(31) # checking if the given number is prime or not. \n",
    "               # The output is boolean. 0 --> not prime, 1 --> prime, -1 --> invalid choice"
   ]
  },
  {
   "cell_type": "code",
   "execution_count": 5,
   "id": "81e4e11f",
   "metadata": {},
   "outputs": [
    {
     "data": {
      "text/plain": [
       "29"
      ]
     },
     "execution_count": 5,
     "metadata": {},
     "output_type": "execute_result"
    }
   ],
   "source": [
    "from abhiprime import prev_prime\n",
    "\n",
    "prev_prime(31) # gives the previous prime number from the given number"
   ]
  },
  {
   "cell_type": "code",
   "execution_count": 6,
   "id": "a3fe7c5d",
   "metadata": {},
   "outputs": [
    {
     "data": {
      "text/plain": [
       "37"
      ]
     },
     "execution_count": 6,
     "metadata": {},
     "output_type": "execute_result"
    }
   ],
   "source": [
    "from abhiprime import next_prime\n",
    "\n",
    "next_prime(31) # gives the next prime number from the given number"
   ]
  },
  {
   "cell_type": "code",
   "execution_count": 7,
   "id": "b0f3226d",
   "metadata": {},
   "outputs": [
    {
     "name": "stdout",
     "output_type": "stream",
     "text": [
      "31 37 41 43 47 53 59 61 67 71 73 79 83 89 97 \n"
     ]
    }
   ],
   "source": [
    "from abhiprime import range_prime\n",
    "\n",
    "range_prime(31,100) # gives all the of prime numbers between the given two numbers"
   ]
  },
  {
   "cell_type": "code",
   "execution_count": 8,
   "id": "bec65492",
   "metadata": {},
   "outputs": [
    {
     "data": {
      "text/plain": [
       "[2, 3, 5, 7, 11, 13, 17, 19, 23, 29, 31]"
      ]
     },
     "execution_count": 8,
     "metadata": {},
     "output_type": "execute_result"
    }
   ],
   "source": [
    "from abhiprime import prime_upto\n",
    "\n",
    "prime_upto(31) # gives all the of prime numbers starting from 2 up to the given number"
   ]
  },
  {
   "cell_type": "code",
   "execution_count": 9,
   "id": "6343c9e2",
   "metadata": {},
   "outputs": [
    {
     "name": "stdout",
     "output_type": "stream",
     "text": [
      "2 3 5 13 89 "
     ]
    }
   ],
   "source": [
    "from abhiprime import fib_prime\n",
    "\n",
    "fib_prime(100) # gives all the of prime numbers which forms the fibonacci series also upto the given number"
   ]
  },
  {
   "cell_type": "code",
   "execution_count": 10,
   "id": "6ab7e7cc",
   "metadata": {},
   "outputs": [
    {
     "data": {
      "text/plain": [
       "[2, 3, 17]"
      ]
     },
     "execution_count": 10,
     "metadata": {},
     "output_type": "execute_result"
    }
   ],
   "source": [
    "from abhiprime import prime_factor\n",
    "\n",
    "prime_factor(102) # gives all the of prime factors of the given number"
   ]
  },
  {
   "cell_type": "markdown",
   "id": "a107f935",
   "metadata": {},
   "source": [
    "## How you can use *abhiprime* package in different programs?"
   ]
  },
  {
   "cell_type": "markdown",
   "id": "d4371524",
   "metadata": {},
   "source": [
    "### WAP to find how many prime numbers are there in from 1 to 100000?"
   ]
  },
  {
   "cell_type": "code",
   "execution_count": 11,
   "id": "3f98d04b",
   "metadata": {},
   "outputs": [
    {
     "name": "stdout",
     "output_type": "stream",
     "text": [
      "Total number of prime numbers are: 9592\n"
     ]
    }
   ],
   "source": [
    "import abhiprime as ap\n",
    "\n",
    "prime_list = [ ] \n",
    "for n in range(100000):\n",
    "    x = ap.test_prime(n)\n",
    "    if x == 1:\n",
    "        prime_list.append(x)\n",
    "print('Total number of prime numbers are:',len(prime_list))"
   ]
  },
  {
   "cell_type": "markdown",
   "id": "6093f4bc",
   "metadata": {},
   "source": [
    "### WAP to find the last prime number in the range from 1 to 100000?"
   ]
  },
  {
   "cell_type": "code",
   "execution_count": 12,
   "id": "08b96361",
   "metadata": {},
   "outputs": [
    {
     "name": "stdout",
     "output_type": "stream",
     "text": [
      "The last prime number value is: 99991\n"
     ]
    }
   ],
   "source": [
    "prime_list = [ ] \n",
    "for n in range(100000):\n",
    "    x = ap.test_prime(n)\n",
    "    if x == 1:\n",
    "        prime_list.append(n)\n",
    "print('The last prime number value is:',prime_list[-1])"
   ]
  },
  {
   "cell_type": "markdown",
   "id": "a79c32a4",
   "metadata": {},
   "source": [
    "### WAP to print the sum of all prime number in the range from 1 to 100000?¶"
   ]
  },
  {
   "cell_type": "code",
   "execution_count": 13,
   "id": "a3d958f1",
   "metadata": {},
   "outputs": [
    {
     "name": "stdout",
     "output_type": "stream",
     "text": [
      "The sum of all prime numbers within the given range is: 454396537\n"
     ]
    }
   ],
   "source": [
    "prime_list = [ ] \n",
    "for n in range(100000):\n",
    "    x = ap.test_prime(n)\n",
    "    if x == 1:\n",
    "        prime_list.append(n)\n",
    "print('The sum of all prime numbers within the given range is:',sum(prime_list))"
   ]
  },
  {
   "cell_type": "markdown",
   "id": "c8461ed4",
   "metadata": {},
   "source": [
    "### WAP to print the product of all prime number in the range from 1 to 100?¶"
   ]
  },
  {
   "cell_type": "code",
   "execution_count": 14,
   "id": "1f0b7626",
   "metadata": {},
   "outputs": [
    {
     "name": "stdout",
     "output_type": "stream",
     "text": [
      "The product of all prime numbers within the given range is: 2305567963945518424753102147331756070\n"
     ]
    }
   ],
   "source": [
    "prime_list = [ ] \n",
    "for n in range(100):\n",
    "    x = ap.test_prime(n)\n",
    "    if x == 1:\n",
    "        prime_list.append(n)\n",
    "res = 1\n",
    "for i in prime_list:\n",
    "    res *= i\n",
    "print('The product of all prime numbers within the given range is:',res)"
   ]
  },
  {
   "cell_type": "markdown",
   "id": "7fb6422a",
   "metadata": {},
   "source": [
    "### WAP to print all  prime numbers upto a given number managing memory efficiently?"
   ]
  },
  {
   "cell_type": "markdown",
   "id": "c75649ae",
   "metadata": {},
   "source": [
    "**By this question we mean that how to print only one output at a time from the list and not the complete list. I have used Yes and No here to ask from user if the user wants to go for memory efficieny or not? If he chooses y, then only one output will be presented at a time. If he chooses n, then complete list will be generated.**  "
   ]
  },
  {
   "cell_type": "code",
   "execution_count": 15,
   "id": "a9aa2b45",
   "metadata": {},
   "outputs": [
    {
     "name": "stdout",
     "output_type": "stream",
     "text": [
      "Enter number:10\n",
      "Memory efficient generator function started.\n",
      "The first prime number is:\n",
      "2\n",
      "Do you want next prime number? \"y\" or \"n\":y\n",
      "3\n",
      "Do you want next prime number? \"y\" or \"n\":y\n",
      "5\n",
      "Do you want next prime number? \"y\" or \"n\":y\n",
      "7\n",
      "Do you want next prime number? \"y\" or \"n\":y\n",
      "All prime numbers are generated. Generator exhausted...\n"
     ]
    }
   ],
   "source": [
    "from abhiprime import prime_upto\n",
    "\n",
    "val = int(input('Enter number:'))\n",
    "prime_gen = prime_upto(val)\n",
    "gen_prime = iter(prime_gen)\n",
    "print('Memory efficient generator function started.\\nThe first prime number is:')\n",
    "while True:\n",
    "    try:\n",
    "        print(next(gen_prime))\n",
    "    except StopIteration:\n",
    "        print('All prime numbers are generated. Generator exhausted...')\n",
    "        break\n",
    "    else:\n",
    "        flag = input('Do you want next prime number? \"y\" or \"n\":')\n",
    "        if flag == 'y':            \n",
    "            continue\n",
    "        elif flag == 'n':\n",
    "            print('You choose to display all values at once.\\nThe list of all prime numbers upto given number are:',prime_gen)\n",
    "            break\n",
    "        else:\n",
    "            print('Invalid Choice.')\n",
    "            break"
   ]
  },
  {
   "cell_type": "markdown",
   "id": "35f74969",
   "metadata": {},
   "source": [
    "### WAP to print all prime factors of a given number managing memory efficiently?¶"
   ]
  },
  {
   "cell_type": "markdown",
   "id": "8e54495b",
   "metadata": {},
   "source": [
    "**By this question we mean that how to print only one output at a time from the list and not the complete list. I have used Yes and No here to ask from user if the user wants to go for memory efficieny or not? If he chooses y, then only one output will be presented at a time. If he chooses n, then complete list will be generated.**  "
   ]
  },
  {
   "cell_type": "code",
   "execution_count": 16,
   "id": "01058051",
   "metadata": {},
   "outputs": [
    {
     "name": "stdout",
     "output_type": "stream",
     "text": [
      "Enter number:25\n",
      "Memory efficient generator function started.\n",
      "The first prime factor is:\n",
      "5\n",
      "Do you want next prime factor? \"y\" or \"n\":y\n",
      "5\n",
      "Do you want next prime factor? \"y\" or \"n\":y\n",
      "All prime factors are generated. Generator exhausted...\n"
     ]
    }
   ],
   "source": [
    "from abhiprime import prime_factor\n",
    "\n",
    "val = int(input('Enter number:'))\n",
    "prime_gen = prime_factor(val)\n",
    "gen_prime = iter(prime_gen)\n",
    "print('Memory efficient generator function started.\\nThe first prime factor is:')\n",
    "while True:\n",
    "    try:\n",
    "        print(next(gen_prime))\n",
    "    except StopIteration:\n",
    "        print('All prime factors are generated. Generator exhausted...')\n",
    "        break\n",
    "    else:\n",
    "        flag = input('Do you want next prime factor? \"y\" or \"n\":')\n",
    "        if flag == 'y':            \n",
    "            continue\n",
    "            \n",
    "        elif flag == 'n':\n",
    "            print('You choose to display all values at once.\\nThe prime factors of the given number are:',prime_gen)\n",
    "            break\n",
    "        else:\n",
    "            print('Invalid Choice.')\n",
    "            break"
   ]
  },
  {
   "cell_type": "markdown",
   "id": "d808f364",
   "metadata": {},
   "source": [
    "### !!! More operations can be done like this. Test your operations using abhiprime package and let me know. Thank You !!!"
   ]
  },
  {
   "cell_type": "code",
   "execution_count": null,
   "id": "3b0d5350",
   "metadata": {},
   "outputs": [],
   "source": []
  }
 ],
 "metadata": {
  "kernelspec": {
   "display_name": "Python 3",
   "language": "python",
   "name": "python3"
  },
  "language_info": {
   "codemirror_mode": {
    "name": "ipython",
    "version": 3
   },
   "file_extension": ".py",
   "mimetype": "text/x-python",
   "name": "python",
   "nbconvert_exporter": "python",
   "pygments_lexer": "ipython3",
   "version": "3.8.8"
  }
 },
 "nbformat": 4,
 "nbformat_minor": 5
}
