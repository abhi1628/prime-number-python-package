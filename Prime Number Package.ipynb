{
 "cells": [
  {
   "cell_type": "markdown",
   "id": "59994751",
   "metadata": {},
   "source": [
    "### Installing the package"
   ]
  },
  {
   "cell_type": "code",
   "execution_count": 1,
   "id": "1b690231",
   "metadata": {},
   "outputs": [
    {
     "name": "stdout",
     "output_type": "stream",
     "text": [
      "Requirement already satisfied: abhiprime in c:\\users\\electronics\\anaconda3\\lib\\site-packages (5.0.0)\n"
     ]
    }
   ],
   "source": [
    "!pip install abhiprime"
   ]
  },
  {
   "cell_type": "markdown",
   "id": "45e6f07b",
   "metadata": {},
   "source": [
    "### Upgrading the package if it is already installed"
   ]
  },
  {
   "cell_type": "code",
   "execution_count": 2,
   "id": "13f7c388",
   "metadata": {},
   "outputs": [
    {
     "name": "stdout",
     "output_type": "stream",
     "text": [
      "Requirement already satisfied: abhiprime in c:\\users\\electronics\\anaconda3\\lib\\site-packages (5.0.0)\n"
     ]
    }
   ],
   "source": [
    "!pip install --upgrade abhiprime"
   ]
  },
  {
   "cell_type": "markdown",
   "id": "672b624a",
   "metadata": {},
   "source": [
    "### Importing the package and using it"
   ]
  },
  {
   "cell_type": "code",
   "execution_count": 3,
   "id": "62f2dd22",
   "metadata": {},
   "outputs": [
    {
     "data": {
      "text/plain": [
       "1"
      ]
     },
     "execution_count": 3,
     "metadata": {},
     "output_type": "execute_result"
    }
   ],
   "source": [
    "from abhiprime import test_prime\n",
    "\n",
    "test_prime(31) # checking if the given number is prime or not. \n",
    "               # The output is boolean. 0 --> not prime, 1 --> prime, -1 --> invalid choice"
   ]
  },
  {
   "cell_type": "code",
   "execution_count": 4,
   "id": "81e4e11f",
   "metadata": {},
   "outputs": [
    {
     "data": {
      "text/plain": [
       "29"
      ]
     },
     "execution_count": 4,
     "metadata": {},
     "output_type": "execute_result"
    }
   ],
   "source": [
    "from abhiprime import prev_prime\n",
    "\n",
    "prev_prime(31) # gives the previous prime number from the given number"
   ]
  },
  {
   "cell_type": "code",
   "execution_count": 5,
   "id": "a3fe7c5d",
   "metadata": {},
   "outputs": [
    {
     "data": {
      "text/plain": [
       "37"
      ]
     },
     "execution_count": 5,
     "metadata": {},
     "output_type": "execute_result"
    }
   ],
   "source": [
    "from abhiprime import next_prime\n",
    "\n",
    "next_prime(31) # gives the next prime number from the given number"
   ]
  },
  {
   "cell_type": "code",
   "execution_count": 6,
   "id": "b0f3226d",
   "metadata": {},
   "outputs": [
    {
     "name": "stdout",
     "output_type": "stream",
     "text": [
      "31 37 41 43 47 53 59 61 67 71 73 79 83 89 97 \n"
     ]
    }
   ],
   "source": [
    "from abhiprime import range_prime\n",
    "\n",
    "range_prime(31,100) # gives all the of prime numbers between the given two numbers"
   ]
  },
  {
   "cell_type": "code",
   "execution_count": 7,
   "id": "bec65492",
   "metadata": {},
   "outputs": [
    {
     "data": {
      "text/plain": [
       "[2, 3, 5, 7, 11, 13, 17, 19, 23, 29, 31]"
      ]
     },
     "execution_count": 7,
     "metadata": {},
     "output_type": "execute_result"
    }
   ],
   "source": [
    "from abhiprime import prime_upto\n",
    "\n",
    "prime_upto(31) # gives all the of prime numbers starting from 2 up to the given number"
   ]
  },
  {
   "cell_type": "code",
   "execution_count": 8,
   "id": "6343c9e2",
   "metadata": {},
   "outputs": [
    {
     "name": "stdout",
     "output_type": "stream",
     "text": [
      "2 3 5 13 89 "
     ]
    }
   ],
   "source": [
    "from abhiprime import fib_prime\n",
    "\n",
    "fib_prime(100) # gives all the of prime numbers which forms the fibonacci series also upto the given number"
   ]
  },
  {
   "cell_type": "markdown",
   "id": "e64f546d",
   "metadata": {},
   "source": [
    "## How you can use *abhiprime* package in different programs?"
   ]
  },
  {
   "cell_type": "markdown",
   "id": "d4371524",
   "metadata": {},
   "source": [
    "### WAP to find how many prime numbers are there in from 1 to 100000?"
   ]
  },
  {
   "cell_type": "code",
   "execution_count": 9,
   "id": "3f98d04b",
   "metadata": {},
   "outputs": [
    {
     "name": "stdout",
     "output_type": "stream",
     "text": [
      "9592\n"
     ]
    }
   ],
   "source": [
    "import abhiprime as ap\n",
    "\n",
    "prime_list = [ ] \n",
    "for n in range(100000):\n",
    "    x = ap.test_prime(n)\n",
    "    if x == 1:\n",
    "        prime_list.append(x)\n",
    "print(len(prime_list))"
   ]
  },
  {
   "cell_type": "markdown",
   "id": "6093f4bc",
   "metadata": {},
   "source": [
    "### WAP to find the last prime number in the range from 1 to 100000?"
   ]
  },
  {
   "cell_type": "code",
   "execution_count": 10,
   "id": "08b96361",
   "metadata": {},
   "outputs": [
    {
     "name": "stdout",
     "output_type": "stream",
     "text": [
      "99991\n"
     ]
    }
   ],
   "source": [
    "prime_list = [ ] \n",
    "for n in range(100000):\n",
    "    x = ap.test_prime(n)\n",
    "    if x == 1:\n",
    "        prime_list.append(n)\n",
    "print(prime_list[-1])"
   ]
  },
  {
   "cell_type": "markdown",
   "id": "a79c32a4",
   "metadata": {},
   "source": [
    "### WAP to print the sum of all prime number in the range from 1 to 100000?¶"
   ]
  },
  {
   "cell_type": "code",
   "execution_count": 11,
   "id": "a3d958f1",
   "metadata": {},
   "outputs": [
    {
     "name": "stdout",
     "output_type": "stream",
     "text": [
      "454396537\n"
     ]
    }
   ],
   "source": [
    "prime_list = [ ] \n",
    "for n in range(100000):\n",
    "    x = ap.test_prime(n)\n",
    "    if x == 1:\n",
    "        prime_list.append(n)\n",
    "print(sum(prime_list))"
   ]
  },
  {
   "cell_type": "markdown",
   "id": "c8461ed4",
   "metadata": {},
   "source": [
    "### WAP to print the product of all prime number in the range from 1 to 100?¶"
   ]
  },
  {
   "cell_type": "code",
   "execution_count": 12,
   "id": "1f0b7626",
   "metadata": {},
   "outputs": [
    {
     "name": "stdout",
     "output_type": "stream",
     "text": [
      "2305567963945518424753102147331756070\n"
     ]
    }
   ],
   "source": [
    "prime_list = [ ] \n",
    "for n in range(100):\n",
    "    x = ap.test_prime(n)\n",
    "    if x == 1:\n",
    "        prime_list.append(n)\n",
    "res = 1\n",
    "for i in prime_list:\n",
    "    res *= i\n",
    "print(res)"
   ]
  },
  {
   "cell_type": "markdown",
   "id": "00d30402",
   "metadata": {},
   "source": [
    "### WAP to print all  prime numbers upto a given number managing memory efficiently?"
   ]
  },
  {
   "cell_type": "code",
   "execution_count": 13,
   "id": "a9aa2b45",
   "metadata": {},
   "outputs": [
    {
     "name": "stdout",
     "output_type": "stream",
     "text": [
      "Enter number:20\n",
      "Memory efficient generator function started.\n",
      "The first prime number is:\n",
      "2\n",
      "Do you want next prime number? \"y\" or \"n\":y\n",
      "3\n",
      "Do you want next prime number? \"y\" or \"n\":y\n",
      "5\n",
      "Do you want next prime number? \"y\" or \"n\":y\n",
      "7\n",
      "Do you want next prime number? \"y\" or \"n\":y\n",
      "11\n",
      "Do you want next prime number? \"y\" or \"n\":y\n",
      "13\n",
      "Do you want next prime number? \"y\" or \"n\":y\n",
      "17\n",
      "Do you want next prime number? \"y\" or \"n\":y\n",
      "19\n",
      "Do you want next prime number? \"y\" or \"n\":y\n",
      "All prime numbers are generated. Generator exhausted...\n"
     ]
    }
   ],
   "source": [
    "from abhiprime import prime_upto\n",
    "\n",
    "val = int(input('Enter number:'))\n",
    "prime_gen = prime_upto(val)\n",
    "prime_gen = iter(prime_gen)\n",
    "print('Memory efficient generator function started.\\nThe first prime number is:')\n",
    "while True:\n",
    "    try:\n",
    "        print(next(prime_gen))\n",
    "    except StopIteration:\n",
    "        print('All prime numbers are generated. Generator exhausted...')\n",
    "        break\n",
    "    else:\n",
    "        flag = input('Do you want next prime number? \"y\" or \"n\":')\n",
    "        if flag == 'y':            \n",
    "            continue\n",
    "        elif flag == 'n':\n",
    "            print('You choose to display all values at once.\\nThe list of all prime numbers upto given number are:',prime_gen)\n",
    "            break\n",
    "        else:\n",
    "            print('Invalid Choice.')\n",
    "            break"
   ]
  },
  {
   "cell_type": "code",
   "execution_count": null,
   "id": "b8610d1a",
   "metadata": {},
   "outputs": [],
   "source": []
  }
 ],
 "metadata": {
  "kernelspec": {
   "display_name": "Python 3",
   "language": "python",
   "name": "python3"
  },
  "language_info": {
   "codemirror_mode": {
    "name": "ipython",
    "version": 3
   },
   "file_extension": ".py",
   "mimetype": "text/x-python",
   "name": "python",
   "nbconvert_exporter": "python",
   "pygments_lexer": "ipython3",
   "version": "3.8.8"
  }
 },
 "nbformat": 4,
 "nbformat_minor": 5
}
